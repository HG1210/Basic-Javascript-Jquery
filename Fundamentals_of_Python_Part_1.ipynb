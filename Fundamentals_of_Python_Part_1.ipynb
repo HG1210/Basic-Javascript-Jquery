{
  "nbformat": 4,
  "nbformat_minor": 0,
  "metadata": {
    "colab": {
      "provenance": [],
      "authorship_tag": "ABX9TyOIAFKYyDqU+NUecApev6lM",
      "include_colab_link": true
    },
    "kernelspec": {
      "name": "python3",
      "display_name": "Python 3"
    },
    "language_info": {
      "name": "python"
    }
  },
  "cells": [
    {
      "cell_type": "markdown",
      "metadata": {
        "id": "view-in-github",
        "colab_type": "text"
      },
      "source": [
        "<a href=\"https://colab.research.google.com/github/HG1210/Basic-Javascript-Jquery/blob/main/Fundamentals_of_Python_Part_1.ipynb\" target=\"_parent\"><img src=\"https://colab.research.google.com/assets/colab-badge.svg\" alt=\"Open In Colab\"/></a>"
      ]
    },
    {
      "cell_type": "markdown",
      "source": [
        "**LEARN PYTHON WITH CAMPUSX **"
      ],
      "metadata": {
        "id": "u6VQL6bztx5k"
      }
    },
    {
      "cell_type": "markdown",
      "source": [
        "29-03-2025\n",
        "\n",
        "1.   Python is a case sensitive language\n",
        "2.   sep means separator between two words.\n",
        "3.   end has its own functionality and default it is set to the next line '\\n'\n",
        "but we can override that with space and slash.\n",
        "4.   DataTypes and Variables.\n",
        "5.   Dynamic Typing and Dynamic Binding (Important Concept Supported in python only) -> Refer Notes.\n",
        "6.   Keywords and Identifers\n",
        "7.   Literals\n",
        "\n"
      ],
      "metadata": {
        "id": "FzDorJY8t-Qh"
      }
    },
    {
      "cell_type": "code",
      "source": [
        "print('HG PYTHON')"
      ],
      "metadata": {
        "colab": {
          "base_uri": "https://localhost:8080/"
        },
        "id": "vuLnyo0KuFy9",
        "outputId": "1d5d6a82-4a6e-492f-8bda-83f53d7fb3d3"
      },
      "execution_count": null,
      "outputs": [
        {
          "output_type": "stream",
          "name": "stdout",
          "text": [
            "HG PYTHON\n"
          ]
        }
      ]
    },
    {
      "cell_type": "code",
      "source": [
        "print('HG','CODE','SLEEP','REPEAT',23, sep='|')"
      ],
      "metadata": {
        "colab": {
          "base_uri": "https://localhost:8080/"
        },
        "id": "S308WGE7zR3V",
        "outputId": "1db278bf-c7b0-493b-b895-18475d67d98f"
      },
      "execution_count": null,
      "outputs": [
        {
          "output_type": "stream",
          "name": "stdout",
          "text": [
            "HG|CODE|SLEEP|REPEAT|23\n"
          ]
        }
      ]
    },
    {
      "cell_type": "code",
      "source": [
        "print ('CODE', end=' ')\n",
        "print('DEBUG')"
      ],
      "metadata": {
        "colab": {
          "base_uri": "https://localhost:8080/"
        },
        "id": "G3svdm_D1Hui",
        "outputId": "74ca6a40-50d0-43c1-dea4-9dd27a18352d"
      },
      "execution_count": null,
      "outputs": [
        {
          "output_type": "stream",
          "name": "stdout",
          "text": [
            "CODE DEBUG\n"
          ]
        }
      ]
    },
    {
      "cell_type": "markdown",
      "source": [
        "**DATA TYPES**\n",
        "\n",
        "1.   integer\n",
        "2.   boolean\n",
        "3.   string\n",
        "4.   complex\n",
        "5.   list\n",
        "6.   tuple\n",
        "7.   dictionary\n",
        "8.   sets\n",
        "9.   float\n",
        "\n"
      ],
      "metadata": {
        "id": "Q8WokgdnI5rj"
      }
    },
    {
      "cell_type": "code",
      "source": [
        "print (8)\n",
        "print (True)\n",
        "print ('DATATYPE')"
      ],
      "metadata": {
        "colab": {
          "base_uri": "https://localhost:8080/"
        },
        "id": "Y3_n8ZC7JHbj",
        "outputId": "c7a0607f-0fdf-4aca-b3f6-9d66b8cf5665"
      },
      "execution_count": null,
      "outputs": [
        {
          "output_type": "stream",
          "name": "stdout",
          "text": [
            "8\n",
            "True\n",
            "DATATYPE\n"
          ]
        }
      ]
    },
    {
      "cell_type": "code",
      "source": [
        "#List\n",
        "print([1,2,3,4,'HG'])"
      ],
      "metadata": {
        "colab": {
          "base_uri": "https://localhost:8080/"
        },
        "id": "6HkZLIUoJer5",
        "outputId": "4bcfcc3d-1fab-40b1-fd42-9d80d1b08ea3"
      },
      "execution_count": null,
      "outputs": [
        {
          "output_type": "stream",
          "name": "stdout",
          "text": [
            "[1, 2, 3, 4, 'HG']\n"
          ]
        }
      ]
    },
    {
      "cell_type": "code",
      "source": [
        "#Tuple\n",
        "print((1,2,3,5,6,'HG'))"
      ],
      "metadata": {
        "colab": {
          "base_uri": "https://localhost:8080/"
        },
        "id": "QUvGNTTFJ1i4",
        "outputId": "1e20bde6-03c2-425f-e08f-1b93036ba0d9"
      },
      "execution_count": null,
      "outputs": [
        {
          "output_type": "stream",
          "name": "stdout",
          "text": [
            "(1, 2, 3, 5, 6, 'HG')\n"
          ]
        }
      ]
    },
    {
      "cell_type": "code",
      "source": [
        "#Sets\n",
        "print({1,3},{'HG','SETS'})"
      ],
      "metadata": {
        "colab": {
          "base_uri": "https://localhost:8080/"
        },
        "id": "7hv9J5x6KJcH",
        "outputId": "2a8fedef-0101-491d-ed1a-f9472710eb0c"
      },
      "execution_count": null,
      "outputs": [
        {
          "output_type": "stream",
          "name": "stdout",
          "text": [
            "{1, 3} {'SETS', 'HG'}\n"
          ]
        }
      ]
    },
    {
      "cell_type": "code",
      "source": [
        "# Dictionary\n",
        "text = {'name':'HG','profile':'DEVELOPER'}\n",
        "print (text['profile'])\n",
        "print ({'name':'HG','profile':'Developer'})"
      ],
      "metadata": {
        "colab": {
          "base_uri": "https://localhost:8080/"
        },
        "id": "LmVJaQLsKw4g",
        "outputId": "2ea4ea70-03a6-4693-90ab-ae5ef141e67c"
      },
      "execution_count": null,
      "outputs": [
        {
          "output_type": "stream",
          "name": "stdout",
          "text": [
            "DEVELOPER\n",
            "{'name': 'HG', 'profile': 'Developer'}\n"
          ]
        }
      ]
    },
    {
      "cell_type": "markdown",
      "source": [
        "**To Add Number - User Input**"
      ],
      "metadata": {
        "id": "2zyf6ddLXxK-"
      }
    },
    {
      "cell_type": "code",
      "source": [
        "firstno = int(input('Enter First Number: '))\n",
        "secondno = int(input('Enter Second Number:'))\n",
        "print(\"The addition of two number is: \", firstno + secondno)"
      ],
      "metadata": {
        "colab": {
          "base_uri": "https://localhost:8080/"
        },
        "id": "drAN_y0sKyjC",
        "outputId": "c934ee34-44e7-48cd-b74f-089382d3c4a2"
      },
      "execution_count": null,
      "outputs": [
        {
          "output_type": "stream",
          "name": "stdout",
          "text": [
            "Enter First Number: 25\n",
            "Enter Second Number:10\n",
            "The addition of two number is:  35\n"
          ]
        }
      ]
    },
    {
      "cell_type": "markdown",
      "source": [
        "Literals - The value that is given to the variable is called as literals\n",
        "a = 10\n",
        "Here, a is an variable and 10 is an literals\n",
        "Keyword = Build in function are known as keyword like else, if.\n",
        "Identifiers - User defined name given to an variable, classes etc."
      ],
      "metadata": {
        "id": "JSPvVNtUBpNa"
      }
    },
    {
      "cell_type": "code",
      "source": [
        "# Representing Complex Number\n",
        "x = 3.14j\n",
        "print(\"The value printed here will be of real and imag\",x.real,x.imag)"
      ],
      "metadata": {
        "colab": {
          "base_uri": "https://localhost:8080/"
        },
        "id": "bpgHRzOvEiRz",
        "outputId": "4c23d398-e5bb-44f5-d51e-dd4fb9957e03"
      },
      "execution_count": null,
      "outputs": [
        {
          "output_type": "stream",
          "name": "stdout",
          "text": [
            "The value printed here will be of real and imag 0.0 3.14\n"
          ]
        }
      ]
    },
    {
      "cell_type": "markdown",
      "source": [
        "QUESTION - SESSION TASK 1\n",
        "Print the given strings as per stated format.\n",
        "Output - Data-Science-Mentorship-Program-started-By-CampusX"
      ],
      "metadata": {
        "id": "9U34ODJJsgI1"
      }
    },
    {
      "cell_type": "code",
      "source": [
        "print(\"Data\", \"Science\", \"Mentorship\", \"Program\",\"started\", \"by\", \"campusx\", sep = '-', end='')"
      ],
      "metadata": {
        "colab": {
          "base_uri": "https://localhost:8080/"
        },
        "id": "hxb-5KfXE2fR",
        "outputId": "f4e0a337-f824-472e-ca16-8273c970a0d0"
      },
      "execution_count": null,
      "outputs": [
        {
          "output_type": "stream",
          "name": "stdout",
          "text": [
            "Data-Science-Mentorship-Program-started-by-campusx"
          ]
        }
      ]
    },
    {
      "cell_type": "markdown",
      "source": [
        "Q2 - Write a program that will convert celsius value to fahrenheit."
      ],
      "metadata": {
        "id": "4mO-_-5Mt-0C"
      }
    },
    {
      "cell_type": "code",
      "source": [
        "celsius = float(input(\"Enter the Celsius Value:\"))\n",
        "fahrenheit = celsius * 1.8 + 32\n",
        "print (fahrenheit)"
      ],
      "metadata": {
        "colab": {
          "base_uri": "https://localhost:8080/"
        },
        "id": "DhIjxv_Mt85N",
        "outputId": "ed032558-6129-436a-aac0-4bac05ce5c6a"
      },
      "execution_count": null,
      "outputs": [
        {
          "output_type": "stream",
          "name": "stdout",
          "text": [
            "Enter the Celsius Value:33.6\n",
            "92.48\n"
          ]
        }
      ]
    }
  ]
}